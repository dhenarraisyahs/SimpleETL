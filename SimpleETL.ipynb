{
  "nbformat": 4,
  "nbformat_minor": 0,
  "metadata": {
    "colab": {
      "name": "SimpleETL.ipynb",
      "provenance": []
    },
    "kernelspec": {
      "name": "python3",
      "display_name": "Python 3"
    },
    "language_info": {
      "name": "python"
    }
  },
  "cells": [
    {
      "cell_type": "code",
      "metadata": {
        "id": "zqn_i1-a-y6H"
      },
      "source": [
        "import pandas as pd\n",
        "df_participant = pd.read_csv('https://storage.googleapis.com/dqlab-dataset/dqthon-participants.csv')"
      ],
      "execution_count": 1,
      "outputs": []
    },
    {
      "cell_type": "code",
      "metadata": {
        "colab": {
          "base_uri": "https://localhost:8080/",
          "height": 684
        },
        "id": "mHb_JmOh-9W9",
        "outputId": "b1443bc2-5d9a-4a5c-d178-a6918c1cf652"
      },
      "source": [
        "df_participant"
      ],
      "execution_count": 2,
      "outputs": [
        {
          "output_type": "execute_result",
          "data": {
            "text/html": [
              "<div>\n",
              "<style scoped>\n",
              "    .dataframe tbody tr th:only-of-type {\n",
              "        vertical-align: middle;\n",
              "    }\n",
              "\n",
              "    .dataframe tbody tr th {\n",
              "        vertical-align: top;\n",
              "    }\n",
              "\n",
              "    .dataframe thead th {\n",
              "        text-align: right;\n",
              "    }\n",
              "</style>\n",
              "<table border=\"1\" class=\"dataframe\">\n",
              "  <thead>\n",
              "    <tr style=\"text-align: right;\">\n",
              "      <th></th>\n",
              "      <th>participant_id</th>\n",
              "      <th>first_name</th>\n",
              "      <th>last_name</th>\n",
              "      <th>birth_date</th>\n",
              "      <th>address</th>\n",
              "      <th>phone_number</th>\n",
              "      <th>country</th>\n",
              "      <th>institute</th>\n",
              "      <th>occupation</th>\n",
              "      <th>register_time</th>\n",
              "    </tr>\n",
              "  </thead>\n",
              "  <tbody>\n",
              "    <tr>\n",
              "      <th>0</th>\n",
              "      <td>bd9b6f88-b84f-4c4d-90f8-b67fe2f1a29a</td>\n",
              "      <td>Citra</td>\n",
              "      <td>Nurdiyanti</td>\n",
              "      <td>05 Feb 1991</td>\n",
              "      <td>Gg. Monginsidi No. 08\\nMedan, Aceh 80734</td>\n",
              "      <td>(0151) 081 2706</td>\n",
              "      <td>Georgia</td>\n",
              "      <td>UD Prakasa Mandasari</td>\n",
              "      <td>Business Intelligence Engineer</td>\n",
              "      <td>1.617634e+09</td>\n",
              "    </tr>\n",
              "    <tr>\n",
              "      <th>1</th>\n",
              "      <td>7dfe3391-6f40-47b6-b4db-0c76ebaf5fc3</td>\n",
              "      <td>Aris</td>\n",
              "      <td>Setiawan</td>\n",
              "      <td>11 Jan 1993</td>\n",
              "      <td>Gg. Rajawali Timur No. 7\\nPrabumulih, MA 09434</td>\n",
              "      <td>+62 (036) 461 7027</td>\n",
              "      <td>Korea Utara</td>\n",
              "      <td>Universitas Diponegoro</td>\n",
              "      <td>Frontend Engineer</td>\n",
              "      <td>1.617634e+09</td>\n",
              "    </tr>\n",
              "    <tr>\n",
              "      <th>2</th>\n",
              "      <td>19582d7f-b824-4fe5-a517-d5bf573fc768</td>\n",
              "      <td>Cornelia</td>\n",
              "      <td>Handayani</td>\n",
              "      <td>31 Jul 1993</td>\n",
              "      <td>Jalan Kebonjati No. 0\\nAmbon, SS 57739</td>\n",
              "      <td>089 833 6695</td>\n",
              "      <td>Komoro</td>\n",
              "      <td>UD Hardiansyah Puspasari</td>\n",
              "      <td>Business Analyst</td>\n",
              "      <td>1.617634e+09</td>\n",
              "    </tr>\n",
              "    <tr>\n",
              "      <th>3</th>\n",
              "      <td>aeb6d817-25f3-4867-8a74-8d92e0a0f633</td>\n",
              "      <td>Soleh</td>\n",
              "      <td>Rajasa</td>\n",
              "      <td>04 Nov 1991</td>\n",
              "      <td>Jl. Yos Sudarso No. 109\\nLubuklinggau, SR 76156</td>\n",
              "      <td>+62 (418) 329-4756</td>\n",
              "      <td>Eritrea</td>\n",
              "      <td>Perum Tampubolon Yuliarti</td>\n",
              "      <td>DevOps Engineer</td>\n",
              "      <td>1.617634e+09</td>\n",
              "    </tr>\n",
              "    <tr>\n",
              "      <th>4</th>\n",
              "      <td>1fdabdd9-5444-4c97-87b2-fe8833ad0d27</td>\n",
              "      <td>Vivi</td>\n",
              "      <td>Astuti</td>\n",
              "      <td>22 Jan 2003</td>\n",
              "      <td>Jalan Gardujati No. 53\\nKediri, Sulawesi Tenga...</td>\n",
              "      <td>0812511835</td>\n",
              "      <td>Aljazair</td>\n",
              "      <td>PT Hardiansyah Rahimah</td>\n",
              "      <td>Data Analyst</td>\n",
              "      <td>1.617634e+09</td>\n",
              "    </tr>\n",
              "    <tr>\n",
              "      <th>...</th>\n",
              "      <td>...</td>\n",
              "      <td>...</td>\n",
              "      <td>...</td>\n",
              "      <td>...</td>\n",
              "      <td>...</td>\n",
              "      <td>...</td>\n",
              "      <td>...</td>\n",
              "      <td>...</td>\n",
              "      <td>...</td>\n",
              "      <td>...</td>\n",
              "    </tr>\n",
              "    <tr>\n",
              "      <th>4995</th>\n",
              "      <td>5f084245-58cb-4360-8cff-112f06f7214e</td>\n",
              "      <td>Mitra</td>\n",
              "      <td>Latupono</td>\n",
              "      <td>27 Apr 2000</td>\n",
              "      <td>Jl. Monginsidi No. 5\\nCirebon, BB 50268</td>\n",
              "      <td>+62 (050) 795-8398</td>\n",
              "      <td>Hongaria</td>\n",
              "      <td>Institut Teknologi Sepuluh Nopember</td>\n",
              "      <td>Business Intelligence Engineer</td>\n",
              "      <td>1.617634e+09</td>\n",
              "    </tr>\n",
              "    <tr>\n",
              "      <th>4996</th>\n",
              "      <td>fc6e142a-3f66-4330-9975-8c1dc7f9bb03</td>\n",
              "      <td>Indah</td>\n",
              "      <td>Rahmawati</td>\n",
              "      <td>06 Mar 1996</td>\n",
              "      <td>Gang Joyoboyo No. 73\\nBogor, BT 57434</td>\n",
              "      <td>+62 (0443) 963 0055</td>\n",
              "      <td>Norwegia</td>\n",
              "      <td>CV Safitri Hastuti Tbk</td>\n",
              "      <td>Data Engineer</td>\n",
              "      <td>1.617634e+09</td>\n",
              "    </tr>\n",
              "    <tr>\n",
              "      <th>4997</th>\n",
              "      <td>4521ff9f-4aec-401b-84aa-a4e6fc6549a4</td>\n",
              "      <td>Irsad</td>\n",
              "      <td>Najmudin</td>\n",
              "      <td>14 Feb 2003</td>\n",
              "      <td>Jalan PHH. Mustofa No. 0\\nTanjungbalai, MU 95312</td>\n",
              "      <td>+62 (0408) 216-7689</td>\n",
              "      <td>Ghana</td>\n",
              "      <td>Universitas Katolik Widya Manadala</td>\n",
              "      <td>Fullstack Engineer</td>\n",
              "      <td>1.617634e+09</td>\n",
              "    </tr>\n",
              "    <tr>\n",
              "      <th>4998</th>\n",
              "      <td>1c91596e-427c-44a7-b7d0-974f44e18381</td>\n",
              "      <td>Carla</td>\n",
              "      <td>Nasyidah</td>\n",
              "      <td>22 Aug 1994</td>\n",
              "      <td>Jl. H.J Maemunah No. 955\\nManado, Kepulauan Ba...</td>\n",
              "      <td>+62 (0751) 380 3352</td>\n",
              "      <td>Gambia</td>\n",
              "      <td>CV Permadi (Persero) Tbk</td>\n",
              "      <td>Fullstack Engineer</td>\n",
              "      <td>1.617634e+09</td>\n",
              "    </tr>\n",
              "    <tr>\n",
              "      <th>4999</th>\n",
              "      <td>5d682e84-bcb5-43e9-8ce0-615364f5376a</td>\n",
              "      <td>Darmana</td>\n",
              "      <td>Maryadi</td>\n",
              "      <td>09 Feb 2002</td>\n",
              "      <td>Jalan Erlangga No. 76\\nBontang, Sulawesi Tengg...</td>\n",
              "      <td>+62 (066) 414 8791</td>\n",
              "      <td>Singapura</td>\n",
              "      <td>Perum Laksita Kuswandari</td>\n",
              "      <td>DevOps Engineer</td>\n",
              "      <td>1.617634e+09</td>\n",
              "    </tr>\n",
              "  </tbody>\n",
              "</table>\n",
              "<p>5000 rows × 10 columns</p>\n",
              "</div>"
            ],
            "text/plain": [
              "                            participant_id  ... register_time\n",
              "0     bd9b6f88-b84f-4c4d-90f8-b67fe2f1a29a  ...  1.617634e+09\n",
              "1     7dfe3391-6f40-47b6-b4db-0c76ebaf5fc3  ...  1.617634e+09\n",
              "2     19582d7f-b824-4fe5-a517-d5bf573fc768  ...  1.617634e+09\n",
              "3     aeb6d817-25f3-4867-8a74-8d92e0a0f633  ...  1.617634e+09\n",
              "4     1fdabdd9-5444-4c97-87b2-fe8833ad0d27  ...  1.617634e+09\n",
              "...                                    ...  ...           ...\n",
              "4995  5f084245-58cb-4360-8cff-112f06f7214e  ...  1.617634e+09\n",
              "4996  fc6e142a-3f66-4330-9975-8c1dc7f9bb03  ...  1.617634e+09\n",
              "4997  4521ff9f-4aec-401b-84aa-a4e6fc6549a4  ...  1.617634e+09\n",
              "4998  1c91596e-427c-44a7-b7d0-974f44e18381  ...  1.617634e+09\n",
              "4999  5d682e84-bcb5-43e9-8ce0-615364f5376a  ...  1.617634e+09\n",
              "\n",
              "[5000 rows x 10 columns]"
            ]
          },
          "metadata": {},
          "execution_count": 2
        }
      ]
    },
    {
      "cell_type": "code",
      "metadata": {
        "id": "zQp4a6t0_FLf"
      },
      "source": [
        "#extract kode pos dari field alamat. kode pos berada di paling akhir dari alamat \n",
        "df_participant['postal_code'] = df_participant['address'].str.extract(r'(\\d+)$') "
      ],
      "execution_count": 3,
      "outputs": []
    },
    {
      "cell_type": "code",
      "metadata": {
        "colab": {
          "base_uri": "https://localhost:8080/"
        },
        "id": "csg529Ag_aAk",
        "outputId": "403ae66a-d346-411d-8d39-2ebdd297d369"
      },
      "source": [
        "df_participant['postal_code'].head()"
      ],
      "execution_count": 4,
      "outputs": [
        {
          "output_type": "execute_result",
          "data": {
            "text/plain": [
              "0    80734\n",
              "1    09434\n",
              "2    57739\n",
              "3    76156\n",
              "4    70074\n",
              "Name: postal_code, dtype: object"
            ]
          },
          "metadata": {},
          "execution_count": 4
        }
      ]
    },
    {
      "cell_type": "code",
      "metadata": {
        "colab": {
          "base_uri": "https://localhost:8080/"
        },
        "id": "0KKrYkiI_dCY",
        "outputId": "8b43bafd-c157-4cfc-b451-17899bc8b606"
      },
      "source": [
        "#extract kota dari field alamat. kota merupakan sekumpulan karakter yang terdapat setelah nomor jalan diikuti dengan \\n (newline character) \n",
        "df_participant['city'] = df_participant['address'].str.extract(r'(?<=\\n)(\\w.+)(?=,)')\n",
        "df_participant['city'].head()"
      ],
      "execution_count": 6,
      "outputs": [
        {
          "output_type": "execute_result",
          "data": {
            "text/plain": [
              "0           Medan\n",
              "1      Prabumulih\n",
              "2           Ambon\n",
              "3    Lubuklinggau\n",
              "4          Kediri\n",
              "Name: city, dtype: object"
            ]
          },
          "metadata": {},
          "execution_count": 6
        }
      ]
    },
    {
      "cell_type": "code",
      "metadata": {
        "id": "JNyD-6r1_iI7"
      },
      "source": [
        "#buat field link github dengan susunan nama depan dan nama belakang yang sudah di lowercase\n",
        "df_participant['github_profile'] = 'https://github.com/' + df_participant['first_name'].str.lower() + df_participant['last_name'].str.lower()"
      ],
      "execution_count": 7,
      "outputs": []
    },
    {
      "cell_type": "code",
      "metadata": {
        "colab": {
          "base_uri": "https://localhost:8080/"
        },
        "id": "2dqWks2pAFCM",
        "outputId": "582057c2-5d8a-4457-ab6d-ba9a09cedd66"
      },
      "source": [
        "df_participant['github_profile'].head()"
      ],
      "execution_count": 8,
      "outputs": [
        {
          "output_type": "execute_result",
          "data": {
            "text/plain": [
              "0      https://github.com/citranurdiyanti\n",
              "1         https://github.com/arissetiawan\n",
              "2    https://github.com/corneliahandayani\n",
              "3          https://github.com/solehrajasa\n",
              "4           https://github.com/viviastuti\n",
              "Name: github_profile, dtype: object"
            ]
          },
          "metadata": {},
          "execution_count": 8
        }
      ]
    },
    {
      "cell_type": "code",
      "metadata": {
        "colab": {
          "base_uri": "https://localhost:8080/"
        },
        "id": "yiIzSUDTAHWL",
        "outputId": "5f5fc99c-8b0d-4019-9403-0f2c37692655"
      },
      "source": [
        "#ganti +62/62 menjadi 0\n",
        "df_participant['cleaned_phone_number'] = df_participant['phone_number'].str.replace(r'^(\\+62|62)', '0')\n",
        "#bersihkan tanda () dan -\n",
        "df_participant['cleaned_phone_number'] = df_participant['cleaned_phone_number'].str.replace(r'[()-]', '')\n",
        "#hilangkan whitespace\n",
        "df_participant['cleaned_phone_number'] = df_participant['cleaned_phone_number'].str.replace(r'\\s+', '')\n",
        "df_participant['cleaned_phone_number'].head()"
      ],
      "execution_count": 9,
      "outputs": [
        {
          "output_type": "execute_result",
          "data": {
            "text/plain": [
              "0    01510812706\n",
              "1    00364617027\n",
              "2     0898336695\n",
              "3    04183294756\n",
              "4     0812511835\n",
              "Name: cleaned_phone_number, dtype: object"
            ]
          },
          "metadata": {},
          "execution_count": 9
        }
      ]
    },
    {
      "cell_type": "code",
      "metadata": {
        "colab": {
          "base_uri": "https://localhost:8080/"
        },
        "id": "x5DH9uLvAjXY",
        "outputId": "00d9b1b8-cd6a-4925-82ba-c4ea0d754b15"
      },
      "source": [
        "#buat field nama tim yang merupakan gabungan nilai dari kolom first_name, last_name, country dan institute.\n",
        "def func(col):\n",
        "  #extrat huruf pertama dari nama depan dan belakang\n",
        "    abbrev_name = \"%s%s\"%(col['first_name'][0],col['last_name'][0]) \n",
        "    country = col['country']\n",
        "    abbrev_institute = '%s'%(''.join(list(map(lambda word: word[0], col['institute'].split())))) #Singkatan dari value di kolom institute\n",
        "    return \"%s-%s-%s\"%(abbrev_name,country,abbrev_institute)\n",
        "\n",
        "df_participant['team_name'] = df_participant.apply(func, axis=1)\n",
        "df_participant['team_name'].head()"
      ],
      "execution_count": 10,
      "outputs": [
        {
          "output_type": "execute_result",
          "data": {
            "text/plain": [
              "0       CN-Georgia-UPM\n",
              "1    AS-Korea Utara-UD\n",
              "2        CH-Komoro-UHP\n",
              "3       SR-Eritrea-PTY\n",
              "4      VA-Aljazair-PHR\n",
              "Name: team_name, dtype: object"
            ]
          },
          "metadata": {},
          "execution_count": 10
        }
      ]
    },
    {
      "cell_type": "code",
      "metadata": {
        "colab": {
          "base_uri": "https://localhost:8080/"
        },
        "id": "1FmTdUN0BT3F",
        "outputId": "d7f965bb-5ede-47e6-a5fe-9afa41c7f13d"
      },
      "source": [
        "#buat email dari nama depan, nama belakang, universitas/institut \n",
        "def func(col):\n",
        "\tfirst_name_lower = col['first_name'].lower()\n",
        "\tlast_name_lower = col['last_name'].lower()\n",
        "\tinstitute = ''.join(list(map(lambda word: word[0], col['institute'].lower().split()))) #Singkatan dari nama perusahaan dalam lowercase\n",
        "\n",
        "\tif 'Universitas' in col['institute']:\n",
        "\t\tif len(col['country'].split()) > 1: #Kondisi untuk mengecek apakah jumlah kata dari country lebih dari 1\n",
        "\t\t\tcountry = ''.join(list(map(lambda word: word[0], col['country'].lower().split())))\n",
        "\t\telse:\n",
        "\t\t\tcountry = col['country'][:3].lower()\n",
        "\t\treturn \"%s%s@%s.ac.%s\"%(first_name_lower,last_name_lower,institute,country)\n",
        "\n",
        "\treturn \"%s%s@%s.com\"%(first_name_lower,last_name_lower,institute)\n",
        "\n",
        "df_participant['email'] = df_participant.apply(func, axis=1)\n",
        "df_participant['email'].head()"
      ],
      "execution_count": 11,
      "outputs": [
        {
          "output_type": "execute_result",
          "data": {
            "text/plain": [
              "0      citranurdiyanti@upm.com\n",
              "1        arissetiawan@ud.ac.ku\n",
              "2    corneliahandayani@uhp.com\n",
              "3          solehrajasa@pty.com\n",
              "4           viviastuti@phr.com\n",
              "Name: email, dtype: object"
            ]
          },
          "metadata": {},
          "execution_count": 11
        }
      ]
    },
    {
      "cell_type": "code",
      "metadata": {
        "id": "grGASWgkCLU0"
      },
      "source": [
        "#reformat tgl lahir\n",
        "df_participant['birth_date'] = pd.to_datetime(df_participant['birth_date'], format='%d %b %Y')"
      ],
      "execution_count": 12,
      "outputs": []
    },
    {
      "cell_type": "code",
      "metadata": {
        "colab": {
          "base_uri": "https://localhost:8080/"
        },
        "id": "nbDGTr_SCThi",
        "outputId": "b2afff52-ea43-49d6-9562-f2f1de01f0f4"
      },
      "source": [
        "df_participant['birth_date'].head()"
      ],
      "execution_count": 13,
      "outputs": [
        {
          "output_type": "execute_result",
          "data": {
            "text/plain": [
              "0   1991-02-05\n",
              "1   1993-01-11\n",
              "2   1993-07-31\n",
              "3   1991-11-04\n",
              "4   2003-01-22\n",
              "Name: birth_date, dtype: datetime64[ns]"
            ]
          },
          "metadata": {},
          "execution_count": 13
        }
      ]
    },
    {
      "cell_type": "code",
      "metadata": {
        "colab": {
          "base_uri": "https://localhost:8080/"
        },
        "id": "yNIxFtAHCVgx",
        "outputId": "5c9725dd-bf84-4e25-b9ad-03c22c722166"
      },
      "source": [
        "#reformat tgl pendaftaran\n",
        "df_participant['register_at'] = pd.to_datetime(df_participant['register_time'], unit='s')\n",
        "df_participant['register_at'].head()"
      ],
      "execution_count": 14,
      "outputs": [
        {
          "output_type": "execute_result",
          "data": {
            "text/plain": [
              "0   2021-04-05 14:47:26\n",
              "1   2021-04-05 14:46:58\n",
              "2   2021-04-05 14:47:15\n",
              "3   2021-04-05 14:47:14\n",
              "4   2021-04-05 14:46:50\n",
              "Name: register_at, dtype: datetime64[ns]"
            ]
          },
          "metadata": {},
          "execution_count": 14
        }
      ]
    },
    {
      "cell_type": "code",
      "metadata": {
        "colab": {
          "base_uri": "https://localhost:8080/",
          "height": 400
        },
        "id": "7dWM436mCeAw",
        "outputId": "c9136d4c-adad-4e60-f48f-c6eb3596fad9"
      },
      "source": [
        "df_participant.head()"
      ],
      "execution_count": 15,
      "outputs": [
        {
          "output_type": "execute_result",
          "data": {
            "text/html": [
              "<div>\n",
              "<style scoped>\n",
              "    .dataframe tbody tr th:only-of-type {\n",
              "        vertical-align: middle;\n",
              "    }\n",
              "\n",
              "    .dataframe tbody tr th {\n",
              "        vertical-align: top;\n",
              "    }\n",
              "\n",
              "    .dataframe thead th {\n",
              "        text-align: right;\n",
              "    }\n",
              "</style>\n",
              "<table border=\"1\" class=\"dataframe\">\n",
              "  <thead>\n",
              "    <tr style=\"text-align: right;\">\n",
              "      <th></th>\n",
              "      <th>participant_id</th>\n",
              "      <th>first_name</th>\n",
              "      <th>last_name</th>\n",
              "      <th>birth_date</th>\n",
              "      <th>address</th>\n",
              "      <th>phone_number</th>\n",
              "      <th>country</th>\n",
              "      <th>institute</th>\n",
              "      <th>occupation</th>\n",
              "      <th>register_time</th>\n",
              "      <th>postal_code</th>\n",
              "      <th>city</th>\n",
              "      <th>github_profile</th>\n",
              "      <th>cleaned_phone_number</th>\n",
              "      <th>team_name</th>\n",
              "      <th>email</th>\n",
              "      <th>register_at</th>\n",
              "    </tr>\n",
              "  </thead>\n",
              "  <tbody>\n",
              "    <tr>\n",
              "      <th>0</th>\n",
              "      <td>bd9b6f88-b84f-4c4d-90f8-b67fe2f1a29a</td>\n",
              "      <td>Citra</td>\n",
              "      <td>Nurdiyanti</td>\n",
              "      <td>1991-02-05</td>\n",
              "      <td>Gg. Monginsidi No. 08\\nMedan, Aceh 80734</td>\n",
              "      <td>(0151) 081 2706</td>\n",
              "      <td>Georgia</td>\n",
              "      <td>UD Prakasa Mandasari</td>\n",
              "      <td>Business Intelligence Engineer</td>\n",
              "      <td>1.617634e+09</td>\n",
              "      <td>80734</td>\n",
              "      <td>Medan</td>\n",
              "      <td>https://github.com/citranurdiyanti</td>\n",
              "      <td>01510812706</td>\n",
              "      <td>CN-Georgia-UPM</td>\n",
              "      <td>citranurdiyanti@upm.com</td>\n",
              "      <td>2021-04-05 14:47:26</td>\n",
              "    </tr>\n",
              "    <tr>\n",
              "      <th>1</th>\n",
              "      <td>7dfe3391-6f40-47b6-b4db-0c76ebaf5fc3</td>\n",
              "      <td>Aris</td>\n",
              "      <td>Setiawan</td>\n",
              "      <td>1993-01-11</td>\n",
              "      <td>Gg. Rajawali Timur No. 7\\nPrabumulih, MA 09434</td>\n",
              "      <td>+62 (036) 461 7027</td>\n",
              "      <td>Korea Utara</td>\n",
              "      <td>Universitas Diponegoro</td>\n",
              "      <td>Frontend Engineer</td>\n",
              "      <td>1.617634e+09</td>\n",
              "      <td>09434</td>\n",
              "      <td>Prabumulih</td>\n",
              "      <td>https://github.com/arissetiawan</td>\n",
              "      <td>00364617027</td>\n",
              "      <td>AS-Korea Utara-UD</td>\n",
              "      <td>arissetiawan@ud.ac.ku</td>\n",
              "      <td>2021-04-05 14:46:58</td>\n",
              "    </tr>\n",
              "    <tr>\n",
              "      <th>2</th>\n",
              "      <td>19582d7f-b824-4fe5-a517-d5bf573fc768</td>\n",
              "      <td>Cornelia</td>\n",
              "      <td>Handayani</td>\n",
              "      <td>1993-07-31</td>\n",
              "      <td>Jalan Kebonjati No. 0\\nAmbon, SS 57739</td>\n",
              "      <td>089 833 6695</td>\n",
              "      <td>Komoro</td>\n",
              "      <td>UD Hardiansyah Puspasari</td>\n",
              "      <td>Business Analyst</td>\n",
              "      <td>1.617634e+09</td>\n",
              "      <td>57739</td>\n",
              "      <td>Ambon</td>\n",
              "      <td>https://github.com/corneliahandayani</td>\n",
              "      <td>0898336695</td>\n",
              "      <td>CH-Komoro-UHP</td>\n",
              "      <td>corneliahandayani@uhp.com</td>\n",
              "      <td>2021-04-05 14:47:15</td>\n",
              "    </tr>\n",
              "    <tr>\n",
              "      <th>3</th>\n",
              "      <td>aeb6d817-25f3-4867-8a74-8d92e0a0f633</td>\n",
              "      <td>Soleh</td>\n",
              "      <td>Rajasa</td>\n",
              "      <td>1991-11-04</td>\n",
              "      <td>Jl. Yos Sudarso No. 109\\nLubuklinggau, SR 76156</td>\n",
              "      <td>+62 (418) 329-4756</td>\n",
              "      <td>Eritrea</td>\n",
              "      <td>Perum Tampubolon Yuliarti</td>\n",
              "      <td>DevOps Engineer</td>\n",
              "      <td>1.617634e+09</td>\n",
              "      <td>76156</td>\n",
              "      <td>Lubuklinggau</td>\n",
              "      <td>https://github.com/solehrajasa</td>\n",
              "      <td>04183294756</td>\n",
              "      <td>SR-Eritrea-PTY</td>\n",
              "      <td>solehrajasa@pty.com</td>\n",
              "      <td>2021-04-05 14:47:14</td>\n",
              "    </tr>\n",
              "    <tr>\n",
              "      <th>4</th>\n",
              "      <td>1fdabdd9-5444-4c97-87b2-fe8833ad0d27</td>\n",
              "      <td>Vivi</td>\n",
              "      <td>Astuti</td>\n",
              "      <td>2003-01-22</td>\n",
              "      <td>Jalan Gardujati No. 53\\nKediri, Sulawesi Tenga...</td>\n",
              "      <td>0812511835</td>\n",
              "      <td>Aljazair</td>\n",
              "      <td>PT Hardiansyah Rahimah</td>\n",
              "      <td>Data Analyst</td>\n",
              "      <td>1.617634e+09</td>\n",
              "      <td>70074</td>\n",
              "      <td>Kediri</td>\n",
              "      <td>https://github.com/viviastuti</td>\n",
              "      <td>0812511835</td>\n",
              "      <td>VA-Aljazair-PHR</td>\n",
              "      <td>viviastuti@phr.com</td>\n",
              "      <td>2021-04-05 14:46:50</td>\n",
              "    </tr>\n",
              "  </tbody>\n",
              "</table>\n",
              "</div>"
            ],
            "text/plain": [
              "                         participant_id  ...         register_at\n",
              "0  bd9b6f88-b84f-4c4d-90f8-b67fe2f1a29a  ... 2021-04-05 14:47:26\n",
              "1  7dfe3391-6f40-47b6-b4db-0c76ebaf5fc3  ... 2021-04-05 14:46:58\n",
              "2  19582d7f-b824-4fe5-a517-d5bf573fc768  ... 2021-04-05 14:47:15\n",
              "3  aeb6d817-25f3-4867-8a74-8d92e0a0f633  ... 2021-04-05 14:47:14\n",
              "4  1fdabdd9-5444-4c97-87b2-fe8833ad0d27  ... 2021-04-05 14:46:50\n",
              "\n",
              "[5 rows x 17 columns]"
            ]
          },
          "metadata": {},
          "execution_count": 15
        }
      ]
    },
    {
      "cell_type": "code",
      "metadata": {
        "id": "jB6lz0jdCoc6"
      },
      "source": [
        ""
      ],
      "execution_count": null,
      "outputs": []
    }
  ]
}